{
 "cells": [
  {
   "cell_type": "code",
   "execution_count": null,
   "metadata": {
    "id": "wsz0DsL4qixn"
   },
   "outputs": [],
   "source": [
    "import nltk\n",
    "import numpy as np"
   ]
  },
  {
   "cell_type": "markdown",
   "metadata": {
    "id": "A_0S_6QBrQZC"
   },
   "source": [
    "# Text Manipulation"
   ]
  },
  {
   "cell_type": "markdown",
   "metadata": {
    "id": "a_jCM9HI4Q-V"
   },
   "source": [
    "## Gutenberg Corpus\n",
    "This is a dataset of text from over 3000 books, NLTK has some of the books included in it, if you want you can download the entire dataset and use it with NLTK too!\n",
    "Punkt is a tool needed for sentence tokenization"
   ]
  },
  {
   "cell_type": "code",
   "execution_count": null,
   "metadata": {
    "colab": {
     "base_uri": "https://localhost:8080/"
    },
    "executionInfo": {
     "elapsed": 3424,
     "status": "ok",
     "timestamp": 1616444412517,
     "user": {
      "displayName": "James Byrne",
      "photoUrl": "",
      "userId": "15652542002506260503"
     },
     "user_tz": 0
    },
    "id": "bHdIg_f2r3wx",
    "outputId": "37b3bc38-47a0-46b0-b6a9-a4df324d34b5"
   },
   "outputs": [
    {
     "name": "stdout",
     "output_type": "stream",
     "text": [
      "[nltk_data] Downloading package gutenberg to /root/nltk_data...\n",
      "[nltk_data]   Unzipping corpora/gutenberg.zip.\n",
      "[nltk_data] Downloading package punkt to /root/nltk_data...\n",
      "[nltk_data]   Unzipping tokenizers/punkt.zip.\n"
     ]
    },
    {
     "data": {
      "text/plain": [
       "True"
      ]
     },
     "execution_count": 2,
     "metadata": {
      "tags": []
     },
     "output_type": "execute_result"
    }
   ],
   "source": [
    "nltk.download('gutenberg')\n",
    "nltk.download('punkt')"
   ]
  },
  {
   "cell_type": "code",
   "execution_count": null,
   "metadata": {
    "id": "TzhiTDpPsCUr"
   },
   "outputs": [],
   "source": [
    "from nltk.corpus import gutenberg"
   ]
  },
  {
   "cell_type": "code",
   "execution_count": null,
   "metadata": {
    "colab": {
     "base_uri": "https://localhost:8080/"
    },
    "executionInfo": {
     "elapsed": 3400,
     "status": "ok",
     "timestamp": 1616444412518,
     "user": {
      "displayName": "James Byrne",
      "photoUrl": "",
      "userId": "15652542002506260503"
     },
     "user_tz": 0
    },
    "id": "Lw1m8LGCsai3",
    "outputId": "a4ea8584-9622-4a6f-ee7f-d8ff55fe3bca"
   },
   "outputs": [
    {
     "name": "stdout",
     "output_type": "stream",
     "text": [
      "List of Gutenberg books that NLTK include\n",
      "['austen-emma.txt', 'austen-persuasion.txt', 'austen-sense.txt', 'bible-kjv.txt', 'blake-poems.txt', 'bryant-stories.txt', 'burgess-busterbrown.txt', 'carroll-alice.txt', 'chesterton-ball.txt', 'chesterton-brown.txt', 'chesterton-thursday.txt', 'edgeworth-parents.txt', 'melville-moby_dick.txt', 'milton-paradise.txt', 'shakespeare-caesar.txt', 'shakespeare-hamlet.txt', 'shakespeare-macbeth.txt', 'whitman-leaves.txt']\n"
     ]
    }
   ],
   "source": [
    "print(\"List of Gutenberg books that NLTK include\")\n",
    "print(gutenberg.fileids())"
   ]
  },
  {
   "cell_type": "code",
   "execution_count": null,
   "metadata": {
    "colab": {
     "base_uri": "https://localhost:8080/"
    },
    "executionInfo": {
     "elapsed": 3378,
     "status": "ok",
     "timestamp": 1616444412519,
     "user": {
      "displayName": "James Byrne",
      "photoUrl": "",
      "userId": "15652542002506260503"
     },
     "user_tz": 0
    },
    "id": "NncIUjOxscC4",
    "outputId": "fac43a5c-28d2-423f-fb71-7c559c1fbab3"
   },
   "outputs": [
    {
     "name": "stdout",
     "output_type": "stream",
     "text": [
      "How to access text from a gutenberg book\n",
      "You need to use the same name as in the file ids above\n"
     ]
    }
   ],
   "source": [
    "print(\"How to access text from a gutenberg book\")\n",
    "print(\"You need to use the same name as in the file ids above\")\n",
    "austen_emma_name = gutenberg.fileids()[0]"
   ]
  },
  {
   "cell_type": "code",
   "execution_count": null,
   "metadata": {
    "colab": {
     "base_uri": "https://localhost:8080/",
     "height": 177
    },
    "executionInfo": {
     "elapsed": 3355,
     "status": "ok",
     "timestamp": 1616444412519,
     "user": {
      "displayName": "James Byrne",
      "photoUrl": "",
      "userId": "15652542002506260503"
     },
     "user_tz": 0
    },
    "id": "Rl3y-Nulw_vt",
    "outputId": "a249cf57-4bbf-4b03-a646-c12653c11bfe"
   },
   "outputs": [
    {
     "name": "stdout",
     "output_type": "stream",
     "text": [
      "The book is not loaded all at once, it is a stream, however, you can still iterate over the text like a list, if you want to display a certain number of elements from the stream (words, characters or sentences depending on what you choose) you will have to cast it to a list\n"
     ]
    },
    {
     "data": {
      "application/vnd.google.colaboratory.intrinsic+json": {
       "type": "string"
      },
      "text/plain": [
       "\"[ Emma by Jane Austen 1816 ] VOLUME I CHAPTER I Emma Woodhouse , handsome , clever , and rich , with a comfortable home and happy disposition , seemed to unite some of the best blessings of existence ; and had lived nearly twenty - one years in the world with very little to distress or vex her . She was the youngest of the two daughters of a most affectionate , indulgent father ; and had , in consequence of her sister ' s marriage , been mistress of his house from a very early period . Her mother had died too long ago for her to have more than an indistinct remembrance of her caresses ; and her place had been supplied by an excellent woman as governess , who had fallen little short of a mother in affection . Sixteen years had Miss Taylor been in Mr . Woodhouse ' s family , less as a governess than a friend , very fond of both daughters , but particularly of Emma . Between _them_ it was more the intimacy of sisters . Even before Miss Taylor had ceased to hold the nominal office of governess , the mildness of her temper had hardly allowed her to impose any restraint ; and the shadow of authority being now long passed away , they had been living together as friend and friend very mutually attached , and Emma doing just what she liked ; highly esteeming Miss Taylor ' s judgment , but directed chiefly by her own . The real evils , indeed , of Emma ' s situation were the power of having rather too much her own way , and a disposition to think a little too well of herself ; these were the disadvantages which threatened alloy to her many enjoyments . The danger , however , was at present so unperceived , that they did not by any means rank as misfortunes with her . Sorrow came -- a gentle sorrow -- but not at all in the shape of any disagreeable consciousness .-- Miss Taylor married . It was Miss Taylor ' s loss which first brought grief . It was on the wedding - day of this beloved friend that Emma first sat in mournful thought of any continuance . The wedding over , and the bride - people gone , her father and herself were left to dine together , with no prospect of a third to cheer a long evening . Her father composed himself to sleep after dinner , as usual , and she had then only to sit and think of what she had lost . The event had every promise of happiness for her friend . Mr . Weston was a man of unexceptionable character , easy fortune , suitable age , and pleasant manners ; and there was some satisfaction in considering with what self - denying , generous friendship she had always wished and\""
      ]
     },
     "execution_count": 6,
     "metadata": {
      "tags": []
     },
     "output_type": "execute_result"
    }
   ],
   "source": [
    "print(\"The book is not loaded all at once, it is a stream, however, you can still iterate over the text like a list, if you want to display a certain number of elements from the stream (words, characters or sentences depending on what you choose) you will have to cast it to a list\")\n",
    "\n",
    "austen_emma_words = gutenberg.words(austen_emma_name)\n",
    "\" \".join(list(austen_emma_words[:500]))"
   ]
  },
  {
   "cell_type": "code",
   "execution_count": null,
   "metadata": {
    "colab": {
     "base_uri": "https://localhost:8080/"
    },
    "executionInfo": {
     "elapsed": 3334,
     "status": "ok",
     "timestamp": 1616444412520,
     "user": {
      "displayName": "James Byrne",
      "photoUrl": "",
      "userId": "15652542002506260503"
     },
     "user_tz": 0
    },
    "id": "wNrSn1hdywnR",
    "outputId": "c445b86e-9bd8-4aba-d547-e7732f3b6458"
   },
   "outputs": [
    {
     "name": "stdout",
     "output_type": "stream",
     "text": [
      "['[', 'Emma', 'by', 'Jane', 'Austen', '1816', ']']\n",
      "['VOLUME', 'I']\n",
      "['CHAPTER', 'I']\n",
      "['Emma', 'Woodhouse', ',', 'handsome', ',', 'clever', ',', 'and', 'rich', ',', 'with', 'a', 'comfortable', 'home', 'and', 'happy', 'disposition', ',', 'seemed', 'to', 'unite', 'some', 'of', 'the', 'best', 'blessings', 'of', 'existence', ';', 'and', 'had', 'lived', 'nearly', 'twenty', '-', 'one', 'years', 'in', 'the', 'world', 'with', 'very', 'little', 'to', 'distress', 'or', 'vex', 'her', '.']\n",
      "['She', 'was', 'the', 'youngest', 'of', 'the', 'two', 'daughters', 'of', 'a', 'most', 'affectionate', ',', 'indulgent', 'father', ';', 'and', 'had', ',', 'in', 'consequence', 'of', 'her', 'sister', \"'\", 's', 'marriage', ',', 'been', 'mistress', 'of', 'his', 'house', 'from', 'a', 'very', 'early', 'period', '.']\n",
      "['Her', 'mother', 'had', 'died', 'too', 'long', 'ago', 'for', 'her', 'to', 'have', 'more', 'than', 'an', 'indistinct', 'remembrance', 'of', 'her', 'caresses', ';', 'and', 'her', 'place', 'had', 'been', 'supplied', 'by', 'an', 'excellent', 'woman', 'as', 'governess', ',', 'who', 'had', 'fallen', 'little', 'short', 'of', 'a', 'mother', 'in', 'affection', '.']\n",
      "['Sixteen', 'years', 'had', 'Miss', 'Taylor', 'been', 'in', 'Mr', '.', 'Woodhouse', \"'\", 's', 'family', ',', 'less', 'as', 'a', 'governess', 'than', 'a', 'friend', ',', 'very', 'fond', 'of', 'both', 'daughters', ',', 'but', 'particularly', 'of', 'Emma', '.']\n",
      "['Between', '_them_', 'it', 'was', 'more', 'the', 'intimacy', 'of', 'sisters', '.']\n",
      "['Even', 'before', 'Miss', 'Taylor', 'had', 'ceased', 'to', 'hold', 'the', 'nominal', 'office', 'of', 'governess', ',', 'the', 'mildness', 'of', 'her', 'temper', 'had', 'hardly', 'allowed', 'her', 'to', 'impose', 'any', 'restraint', ';', 'and', 'the', 'shadow', 'of', 'authority', 'being', 'now', 'long', 'passed', 'away', ',', 'they', 'had', 'been', 'living', 'together', 'as', 'friend', 'and', 'friend', 'very', 'mutually', 'attached', ',', 'and', 'Emma', 'doing', 'just', 'what', 'she', 'liked', ';', 'highly', 'esteeming', 'Miss', 'Taylor', \"'\", 's', 'judgment', ',', 'but', 'directed', 'chiefly', 'by', 'her', 'own', '.']\n",
      "['The', 'real', 'evils', ',', 'indeed', ',', 'of', 'Emma', \"'\", 's', 'situation', 'were', 'the', 'power', 'of', 'having', 'rather', 'too', 'much', 'her', 'own', 'way', ',', 'and', 'a', 'disposition', 'to', 'think', 'a', 'little', 'too', 'well', 'of', 'herself', ';', 'these', 'were', 'the', 'disadvantages', 'which', 'threatened', 'alloy', 'to', 'her', 'many', 'enjoyments', '.']\n"
     ]
    }
   ],
   "source": [
    "austen_emma_sents = gutenberg.sents(austen_emma_name)\n",
    "for sentence in austen_emma_sents[:10]:\n",
    "    print(sentence)"
   ]
  },
  {
   "cell_type": "code",
   "execution_count": null,
   "metadata": {
    "colab": {
     "base_uri": "https://localhost:8080/"
    },
    "executionInfo": {
     "elapsed": 3310,
     "status": "ok",
     "timestamp": 1616444412520,
     "user": {
      "displayName": "James Byrne",
      "photoUrl": "",
      "userId": "15652542002506260503"
     },
     "user_tz": 0
    },
    "id": "XVw3XuclzGte",
    "outputId": "194372eb-f0ee-4cdd-a841-6c572a04901f"
   },
   "outputs": [
    {
     "name": "stdout",
     "output_type": "stream",
     "text": [
      "[Emma by Jane Austen 1816]\n",
      "\n",
      "VOLUME I\n",
      "\n",
      "CHAPTER I\n",
      "\n",
      "\n",
      "Emma Woodhouse, handsome, clever, and rich, with a comfortable home\n",
      "and happy disposition, seemed to unite some of the best blessings\n",
      "of existence; and had lived nearly twenty-one years in the world\n",
      "with very little to distress or vex her.\n",
      "\n",
      "She was the youngest of the two daughters of a most affectionate,\n",
      "indulgent father; and had, in consequence of her sister's marriage,\n",
      "been mistress of his house from a very early period.  Her mother\n",
      "had died too long ago for her to have more than an indistinct\n",
      "remembrance of her caresses; and her place had been supplied\n",
      "by an excellent woman as governess, who had fallen little short\n",
      "of a mother in affection.\n",
      "\n",
      "Sixteen years had Miss Taylor been in Mr. Woodhouse's family,\n",
      "less as a governess than a friend, very fond of both daughters,\n",
      "but particularly of Emma.  Between _them_ it was more the intimacy\n",
      "of sisters.  Even before Miss Taylor had ceased to hold the nominal\n",
      "office of governess, the mildness o\n"
     ]
    }
   ],
   "source": [
    "austen_emma_raw = gutenberg.raw(austen_emma_name)\n",
    "print(austen_emma_raw[:1000])"
   ]
  },
  {
   "cell_type": "markdown",
   "metadata": {
    "id": "0EXS8ZX-gzWL"
   },
   "source": [
    "# Preprocessing\n",
    "Before we can do any analysis on our dataset, we need to clean the text to prepare it for analysis\n",
    "\n",
    "**Note:** these steps are not always done for every NLP task, it all depends on the problem you are trying to solve and how you are going to solve it!"
   ]
  },
  {
   "cell_type": "markdown",
   "metadata": {
    "id": "8Bib1pJbhgl6"
   },
   "source": [
    "## 1. Lowecase Text\n",
    "\n",
    "First step that is nearly always done is to make all text lowercase. This is because \"hello\" is not equal to \"Hello\" or \"HELLO\" and typically we want them to represent the same thing. \n",
    "\n",
    "However, if your dataset consists of tweets and you wanted to classify them as either having a positive or negative sentiment you might want to differenciate between words that are capitalized differently, for example, text all in upper case can be seen as angry or aggresive in a tweet. This is why spending time to look at your data and understand the problem you are trying to solve is really important."
   ]
  },
  {
   "cell_type": "code",
   "execution_count": null,
   "metadata": {
    "colab": {
     "base_uri": "https://localhost:8080/"
    },
    "executionInfo": {
     "elapsed": 3288,
     "status": "ok",
     "timestamp": 1616444412521,
     "user": {
      "displayName": "James Byrne",
      "photoUrl": "",
      "userId": "15652542002506260503"
     },
     "user_tz": 0
    },
    "id": "cnzLzXFWjGyk",
    "outputId": "98c46e7a-1b0b-48d2-c55b-89c6b3e85f93"
   },
   "outputs": [
    {
     "name": "stdout",
     "output_type": "stream",
     "text": [
      "[emma by jane austen 1816]\n",
      "\n",
      "volume i\n",
      "\n",
      "chapter i\n",
      "\n",
      "\n",
      "emma woodhouse, handsome, clever, and rich, with a comfortable home\n",
      "and happy disposition, seemed to unite some of the best blessings\n",
      "of existence; an\n"
     ]
    }
   ],
   "source": [
    "lowercase_text = austen_emma_raw.lower()\n",
    "print(lowercase_text[:200])"
   ]
  },
  {
   "cell_type": "markdown",
   "metadata": {
    "id": "Sj5zVf6Blzr-"
   },
   "source": [
    "## 2. String Tokenization\n",
    "\n",
    "As we saw with the nltk corpus, they provide us with the text already broken up into a list of sentences and a list of words. This is not always the case and we have to do that manually.\n",
    "\n",
    "**Sentence tokenization** breaks up a string into a list of sentences\n",
    "\n",
    "**word tokenization** breaks up a string into a list of words"
   ]
  },
  {
   "cell_type": "code",
   "execution_count": null,
   "metadata": {
    "id": "15JZTlrFqCf3"
   },
   "outputs": [],
   "source": [
    "from nltk.tokenize import word_tokenize, sent_tokenize"
   ]
  },
  {
   "cell_type": "markdown",
   "metadata": {
    "id": "qoShv1uVo7qw"
   },
   "source": [
    "lets tokenize the entire book into a list of sentences and into a list of words"
   ]
  },
  {
   "cell_type": "code",
   "execution_count": null,
   "metadata": {
    "colab": {
     "base_uri": "https://localhost:8080/"
    },
    "executionInfo": {
     "elapsed": 3668,
     "status": "ok",
     "timestamp": 1616444412925,
     "user": {
      "displayName": "James Byrne",
      "photoUrl": "",
      "userId": "15652542002506260503"
     },
     "user_tz": 0
    },
    "id": "xNCoKUC6qGjM",
    "outputId": "788c2300-9ab5-4fe6-eb19-bf4703ce1ecd"
   },
   "outputs": [
    {
     "name": "stdout",
     "output_type": "stream",
     "text": [
      "List of sentences\n"
     ]
    },
    {
     "data": {
      "text/plain": [
       "['[emma by jane austen 1816]\\n\\nvolume i\\n\\nchapter i\\n\\n\\nemma woodhouse, handsome, clever, and rich, with a comfortable home\\nand happy disposition, seemed to unite some of the best blessings\\nof existence; and had lived nearly twenty-one years in the world\\nwith very little to distress or vex her.',\n",
       " \"she was the youngest of the two daughters of a most affectionate,\\nindulgent father; and had, in consequence of her sister's marriage,\\nbeen mistress of his house from a very early period.\",\n",
       " 'her mother\\nhad died too long ago for her to have more than an indistinct\\nremembrance of her caresses; and her place had been supplied\\nby an excellent woman as governess, who had fallen little short\\nof a mother in affection.',\n",
       " \"sixteen years had miss taylor been in mr. woodhouse's family,\\nless as a governess than a friend, very fond of both daughters,\\nbut particularly of emma.\",\n",
       " 'between _them_ it was more the intimacy\\nof sisters.',\n",
       " \"even before miss taylor had ceased to hold the nominal\\noffice of governess, the mildness of her temper had hardly allowed\\nher to impose any restraint; and the shadow of authority being\\nnow long passed away, they had been living together as friend and\\nfriend very mutually attached, and emma doing just what she liked;\\nhighly esteeming miss taylor's judgment, but directed chiefly by\\nher own.\",\n",
       " \"the real evils, indeed, of emma's situation were the power of having\\nrather too much her own way, and a disposition to think a little\\ntoo well of herself; these were the disadvantages which threatened\\nalloy to her many enjoyments.\",\n",
       " 'the danger, however, was at present\\nso unperceived, that they did not by any means rank as misfortunes\\nwith her.',\n",
       " 'sorrow came--a gentle sorrow--but not at all in the shape of any\\ndisagreeable consciousness.--miss taylor married.',\n",
       " \"it was miss\\ntaylor's loss which first brought grief.\"]"
      ]
     },
     "execution_count": 11,
     "metadata": {
      "tags": []
     },
     "output_type": "execute_result"
    }
   ],
   "source": [
    "\n",
    "tokenized_sents = sent_tokenize(lowercase_text)\n",
    "print(\"List of sentences\")\n",
    "tokenized_sents[:10]"
   ]
  },
  {
   "cell_type": "code",
   "execution_count": null,
   "metadata": {
    "colab": {
     "base_uri": "https://localhost:8080/"
    },
    "executionInfo": {
     "elapsed": 4685,
     "status": "ok",
     "timestamp": 1616444413963,
     "user": {
      "displayName": "James Byrne",
      "photoUrl": "",
      "userId": "15652542002506260503"
     },
     "user_tz": 0
    },
    "id": "hYcKIwrHqHSV",
    "outputId": "73f10888-030f-4f6b-c705-6a26ce4f4b0e"
   },
   "outputs": [
    {
     "name": "stdout",
     "output_type": "stream",
     "text": [
      "List of words\n",
      "['[', 'emma', 'by', 'jane', 'austen', '1816', ']', 'volume', 'i', 'chapter', 'i', 'emma', 'woodhouse', ',', 'handsome', ',', 'clever', ',', 'and', 'rich', ',', 'with', 'a', 'comfortable', 'home', 'and', 'happy', 'disposition', ',', 'seemed', 'to', 'unite', 'some', 'of', 'the', 'best', 'blessings', 'of', 'existence', ';', 'and', 'had', 'lived', 'nearly', 'twenty-one', 'years', 'in', 'the', 'world', 'with']\n"
     ]
    }
   ],
   "source": [
    "tokenized_words = word_tokenize(lowercase_text)\n",
    "print(\"List of words\")\n",
    "print(tokenized_words[:50])"
   ]
  },
  {
   "cell_type": "markdown",
   "metadata": {
    "id": "R5STyk4bj76F"
   },
   "source": [
    "## 3. Removing Punctuation\n",
    "\n",
    "Have you noticed that punctuation is considered its own word after word tokenization?\n",
    "\n",
    "Is this a problem? \n",
    "Again, it depends on the problem you are trying to solve! Typically it is removed but it could be useful in your dataset. Using the previous example of positive and negative tweets, there might be emogis which help classify a tweets, or even a full stop at the end that can be seen as passive agressive. \n",
    "\n",
    "**Always look at the data and if you are not sure try with and without punctuation!**\n",
    "\n",
    "Luckily Python provides us with a string of all punctuation which makes it easier for us to remove them. We may decide to change this string to exclude some punctuation that we think is important for our problem"
   ]
  },
  {
   "cell_type": "code",
   "execution_count": null,
   "metadata": {
    "colab": {
     "base_uri": "https://localhost:8080/"
    },
    "executionInfo": {
     "elapsed": 4581,
     "status": "ok",
     "timestamp": 1616444413964,
     "user": {
      "displayName": "James Byrne",
      "photoUrl": "",
      "userId": "15652542002506260503"
     },
     "user_tz": 0
    },
    "id": "JrEZ7ncalKpZ",
    "outputId": "8b14bae6-daf0-47f7-cc07-42ea9c10981d"
   },
   "outputs": [
    {
     "name": "stdout",
     "output_type": "stream",
     "text": [
      "{')', '&', '$', '}', '{', '!', '-', '^', '.', \"'\", '~', '%', '@', '>', '(', '?', '`', ';', ']', '|', ',', '<', '=', '*', '#', '\"', '+', '\\\\', '_', '/', ':', '['}\n"
     ]
    }
   ],
   "source": [
    "from string import punctuation\n",
    "punctuation_set = set(punctuation)\n",
    "print(punctuation_set)"
   ]
  },
  {
   "cell_type": "code",
   "execution_count": null,
   "metadata": {
    "colab": {
     "base_uri": "https://localhost:8080/"
    },
    "executionInfo": {
     "elapsed": 3937,
     "status": "ok",
     "timestamp": 1616444413964,
     "user": {
      "displayName": "James Byrne",
      "photoUrl": "",
      "userId": "15652542002506260503"
     },
     "user_tz": 0
    },
    "id": "NF7xDue7ld8N",
    "outputId": "00f0de5e-ef62-400a-8205-372f3c5ed4c3"
   },
   "outputs": [
    {
     "name": "stdout",
     "output_type": "stream",
     "text": [
      "['emma', 'by', 'jane', 'austen', '1816', 'volume', 'i', 'chapter', 'i', 'emma', 'woodhouse', 'handsome', 'clever', 'and', 'rich', 'with', 'a', 'comfortable', 'home', 'and']\n"
     ]
    }
   ],
   "source": [
    "punctuation_removed = []\n",
    "for word in tokenized_words:\n",
    "    if word not in punctuation_set:\n",
    "        punctuation_removed.append(word)\n",
    "\n",
    "print(punctuation_removed[:20])"
   ]
  },
  {
   "cell_type": "markdown",
   "metadata": {
    "id": "TNYGtxwGxEr4"
   },
   "source": [
    "This is a cleaner way of writing the above code"
   ]
  },
  {
   "cell_type": "code",
   "execution_count": null,
   "metadata": {
    "colab": {
     "base_uri": "https://localhost:8080/"
    },
    "executionInfo": {
     "elapsed": 2942,
     "status": "ok",
     "timestamp": 1616444413965,
     "user": {
      "displayName": "James Byrne",
      "photoUrl": "",
      "userId": "15652542002506260503"
     },
     "user_tz": 0
    },
    "id": "tD_Pr4lDxBlP",
    "outputId": "559ba531-00d2-4b44-8ce5-6e3d1f6003dd"
   },
   "outputs": [
    {
     "name": "stdout",
     "output_type": "stream",
     "text": [
      "['emma', 'by', 'jane', 'austen', '1816', 'volume', 'i', 'chapter', 'i', 'emma', 'woodhouse', 'handsome', 'clever', 'and', 'rich', 'with', 'a', 'comfortable', 'home', 'and']\n"
     ]
    }
   ],
   "source": [
    "punctuation_removed = [word for word in tokenized_words if word not in punctuation_set]\n",
    "print(punctuation_removed[:20])"
   ]
  },
  {
   "cell_type": "markdown",
   "metadata": {
    "id": "FfpaziQ7vdbT"
   },
   "source": [
    "## 4. Remove Stopwords\n",
    "\n",
    "Stopwords are words that do not add meaning to a sentence, they are filler words. Therefore, we remove stopwords a lot of the time, however, in other situatuons where grammar is important, this is kept, it all depends on the problem you are trying to solve and how you intend on approaching it.\n",
    "\n",
    "NLTK has a list of stopwords for many languages, and we will remove any word that is in the English list of stopwords."
   ]
  },
  {
   "cell_type": "code",
   "execution_count": null,
   "metadata": {
    "colab": {
     "base_uri": "https://localhost:8080/"
    },
    "executionInfo": {
     "elapsed": 2030,
     "status": "ok",
     "timestamp": 1616444413966,
     "user": {
      "displayName": "James Byrne",
      "photoUrl": "",
      "userId": "15652542002506260503"
     },
     "user_tz": 0
    },
    "id": "xHobp25PwrVV",
    "outputId": "d07c86f1-376f-486f-f037-313366295db1"
   },
   "outputs": [
    {
     "name": "stdout",
     "output_type": "stream",
     "text": [
      "[nltk_data] Downloading package stopwords to /root/nltk_data...\n",
      "[nltk_data]   Unzipping corpora/stopwords.zip.\n"
     ]
    },
    {
     "data": {
      "text/plain": [
       "True"
      ]
     },
     "execution_count": 16,
     "metadata": {
      "tags": []
     },
     "output_type": "execute_result"
    }
   ],
   "source": [
    "nltk.download('stopwords')"
   ]
  },
  {
   "cell_type": "code",
   "execution_count": null,
   "metadata": {
    "colab": {
     "base_uri": "https://localhost:8080/"
    },
    "executionInfo": {
     "elapsed": 1605,
     "status": "ok",
     "timestamp": 1616444413966,
     "user": {
      "displayName": "James Byrne",
      "photoUrl": "",
      "userId": "15652542002506260503"
     },
     "user_tz": 0
    },
    "id": "lUqjg2IGwOuS",
    "outputId": "6bbdd787-141c-462f-ff04-f04ef00eacb9"
   },
   "outputs": [
    {
     "name": "stdout",
     "output_type": "stream",
     "text": [
      "First 20 English stopwords\n",
      " ['i', 'me', 'my', 'myself', 'we', 'our', 'ours', 'ourselves', 'you', \"you're\", \"you've\", \"you'll\", \"you'd\", 'your', 'yours', 'yourself', 'yourselves', 'he', 'him', 'his']\n",
      "\n",
      "First 20 Spanish stopwords\n",
      " ['de', 'la', 'que', 'el', 'en', 'y', 'a', 'los', 'del', 'se', 'las', 'por', 'un', 'para', 'con', 'no', 'una', 'su', 'al', 'lo']\n"
     ]
    }
   ],
   "source": [
    "from nltk.corpus import stopwords\n",
    "\n",
    "english_stopwords = stopwords.words('english')\n",
    "spanish_stopwords = stopwords.words('spanish')\n",
    "\n",
    "\n",
    "print(\"First 20 English stopwords\\n\", english_stopwords[:20])\n",
    "print(\"\\nFirst 20 Spanish stopwords\\n\", spanish_stopwords[:20])"
   ]
  },
  {
   "cell_type": "code",
   "execution_count": null,
   "metadata": {
    "colab": {
     "base_uri": "https://localhost:8080/"
    },
    "executionInfo": {
     "elapsed": 1463,
     "status": "ok",
     "timestamp": 1616444414270,
     "user": {
      "displayName": "James Byrne",
      "photoUrl": "",
      "userId": "15652542002506260503"
     },
     "user_tz": 0
    },
    "id": "kG8NgowVvcVD",
    "outputId": "1a35b07b-e6ab-4ba4-d435-7d7713745ebf"
   },
   "outputs": [
    {
     "name": "stdout",
     "output_type": "stream",
     "text": [
      "['emma', 'jane', 'austen', '1816', 'volume', 'chapter', 'emma', 'woodhouse', 'handsome', 'clever', 'rich', 'comfortable', 'home', 'happy', 'disposition', 'seemed', 'unite', 'best', 'blessings', 'existence']\n"
     ]
    }
   ],
   "source": [
    "stopwords_removed = []\n",
    "\n",
    "for word in punctuation_removed:\n",
    "    if word not in english_stopwords:\n",
    "        stopwords_removed.append(word)\n",
    "        \n",
    "print(stopwords_removed[:20])"
   ]
  },
  {
   "cell_type": "markdown",
   "metadata": {
    "id": "51LuzswRyS0h"
   },
   "source": [
    "## 5. Stemming and Lemmatization\n",
    "\n",
    "Should the word \"be\" and \"am\" be represented as the same word? \n",
    "\n",
    "In some cases, yes, because it is a conjugated form of a verb but the meaning of the word is the same (except the tense and person). In other situatuons where grammar is important this is kept, it all depends on the task at hand.\n",
    "\n",
    "There are to different approaches to this, stemming and lemmatization.\n",
    "\n",
    "**Stemming** takes a word and cuts off the ending to return the stem or root of a word.\n",
    "\n",
    "**Lemmatization** takes a word and returns the base or dictionary form of a word.\n",
    "\n",
    "Whats important to remember is that it doesnt matter if the returned word is an actualy word, its that all words that all the words mapped to a resultant word are all grammatical forms of the same word and that it does not leave out any grammatical forms. \n",
    "\n",
    "For the purpose of this workshop we will use stemming."
   ]
  },
  {
   "cell_type": "code",
   "execution_count": null,
   "metadata": {
    "id": "JMIgosfr6Eyo"
   },
   "outputs": [],
   "source": [
    "from nltk.stem import PorterStemmer"
   ]
  },
  {
   "cell_type": "code",
   "execution_count": null,
   "metadata": {
    "id": "cqyc51PP09mU"
   },
   "outputs": [],
   "source": [
    "stemmer = PorterStemmer()"
   ]
  },
  {
   "cell_type": "code",
   "execution_count": null,
   "metadata": {
    "colab": {
     "base_uri": "https://localhost:8080/"
    },
    "executionInfo": {
     "elapsed": 2310,
     "status": "ok",
     "timestamp": 1616444417851,
     "user": {
      "displayName": "James Byrne",
      "photoUrl": "",
      "userId": "15652542002506260503"
     },
     "user_tz": 0
    },
    "id": "qIpbu_QB0-Pd",
    "outputId": "c251b9d2-2182-4cb4-b5d9-ac4741dbce1b"
   },
   "outputs": [
    {
     "name": "stdout",
     "output_type": "stream",
     "text": [
      "['emma', 'jane', 'austen', '1816', 'volum', 'chapter', 'emma', 'woodhous', 'handsom', 'clever', 'rich', 'comfort', 'home', 'happi', 'disposit', 'seem', 'unit', 'best', 'bless', 'exist']\n"
     ]
    }
   ],
   "source": [
    "stemmed_words = []\n",
    "\n",
    "for word in stopwords_removed:\n",
    "    stem = stemmer.stem(word)\n",
    "    stemmed_words.append(stem)\n",
    "\n",
    "print(stemmed_words[:20])"
   ]
  },
  {
   "cell_type": "markdown",
   "metadata": {
    "id": "0ZWmp08NfVvA"
   },
   "source": [
    "## Task:\n",
    "\n",
    "Write a function that takes in a string of text and applies all of the preprocessing steps discussed above to return a list of preprocessed words from the text. Try run it on the *austen_emma_raw* text\n",
    "\n",
    "This includes making the text lower case, performing word tokenization, removing punctuation and stop words and stemming the words"
   ]
  },
  {
   "cell_type": "code",
   "execution_count": 1,
   "metadata": {
    "id": "y3hV50jifgXS"
   },
   "outputs": [],
   "source": [
    "def preprocessing(text):\n",
    "    preprocessed_words = []\n",
    "    \n",
    "    # INSERT YOUR SOLUTION HERE\n",
    "    # There is a file called preprocessing_solution.py that has the correct solution to compare\n",
    "\n",
    "    return preprocessed_words"
   ]
  },
  {
   "cell_type": "code",
   "execution_count": null,
   "metadata": {
    "colab": {
     "base_uri": "https://localhost:8080/"
    },
    "executionInfo": {
     "elapsed": 2079,
     "status": "ok",
     "timestamp": 1616444420694,
     "user": {
      "displayName": "James Byrne",
      "photoUrl": "",
      "userId": "15652542002506260503"
     },
     "user_tz": 0
    },
    "id": "Nu0dhN1wgN9P",
    "outputId": "1d5f1128-9155-4048-d136-5c8ca11aa97a"
   },
   "outputs": [
    {
     "data": {
      "text/plain": [
       "['emma',\n",
       " 'jane',\n",
       " 'austen',\n",
       " '1816',\n",
       " 'volume',\n",
       " 'chapter',\n",
       " 'emma',\n",
       " 'woodhouse',\n",
       " 'handsome',\n",
       " 'clever',\n",
       " 'rich',\n",
       " 'comfortable',\n",
       " 'home',\n",
       " 'happy',\n",
       " 'disposition',\n",
       " 'seemed',\n",
       " 'unite',\n",
       " 'best',\n",
       " 'blessings',\n",
       " 'existence']"
      ]
     },
     "execution_count": 23,
     "metadata": {
      "tags": []
     },
     "output_type": "execute_result"
    }
   ],
   "source": [
    "preprocessing(austen_emma_raw)[:20]"
   ]
  },
  {
   "cell_type": "markdown",
   "metadata": {
    "id": "cSYTfK8m-Ias"
   },
   "source": [
    "# TensorFlow\n",
    "\n",
    "TensorFlow is one of the most popular open source platforms for machine learning and deep learning models. We are going to train a model to determine whether a Yelp review is positive or negative. This is to give you an overview of what is possible with NLP, do not focus too much on what each individual part means, its to get an overview. Please do ask questions if you are confused by anything!\n",
    "\n",
    "We are going to use a subset of the dataset constructed by Xiang Zhang which was extracted from the Yelp Dataset Challenge 2015."
   ]
  },
  {
   "cell_type": "markdown",
   "metadata": {
    "id": "e-CpcfYBBAVT"
   },
   "source": [
    "## Download the dataset"
   ]
  },
  {
   "cell_type": "markdown",
   "metadata": {
    "id": "yOl5nUF5BfRI"
   },
   "source": [
    "In Google Colab, click on the files tab on the left and upload the train_workshop.csv and test_workshop.csv files.\n",
    "\n"
   ]
  },
  {
   "cell_type": "markdown",
   "metadata": {
    "id": "-1mORKfCEqin"
   },
   "source": [
    "## Read the files"
   ]
  },
  {
   "cell_type": "code",
   "execution_count": null,
   "metadata": {
    "id": "5UttW_MEE7PH"
   },
   "outputs": [],
   "source": [
    "def read_reviews(file_name):\n",
    "    reviews = []\n",
    "    labels = []\n",
    "\n",
    "    with open(file_name, \"r\") as f:\n",
    "        count = 0\n",
    "        for line in f.read().split(\"\\n\"):\n",
    "            if not line:\n",
    "                break;\n",
    "            columns = [column.strip() for column in line.split(\",\")]\n",
    "            reviews.append(columns[0])\n",
    "            labels.append(int(columns[1]))\n",
    "\n",
    "            count += 1\n",
    "        print(count)\n",
    "\n",
    "    return reviews, np.array(labels)"
   ]
  },
  {
   "cell_type": "code",
   "execution_count": null,
   "metadata": {
    "colab": {
     "base_uri": "https://localhost:8080/"
    },
    "executionInfo": {
     "elapsed": 1141,
     "status": "ok",
     "timestamp": 1616447998371,
     "user": {
      "displayName": "James Byrne",
      "photoUrl": "",
      "userId": "15652542002506260503"
     },
     "user_tz": 0
    },
    "id": "dj6SWw0-Giev",
    "outputId": "c4867ba2-362d-4471-e878-cb21c07c9c76"
   },
   "outputs": [
    {
     "name": "stdout",
     "output_type": "stream",
     "text": [
      "40000\n",
      "12000\n"
     ]
    }
   ],
   "source": [
    "train_reviews, train_labels = read_reviews(\"train_workshop.csv\")\n",
    "test_reviews, test_labels = read_reviews(\"test_workshop.csv\")"
   ]
  },
  {
   "cell_type": "markdown",
   "metadata": {
    "id": "4gWcHb2Or_2l"
   },
   "source": [
    "These assertions are to ensure that the data was read correctly"
   ]
  },
  {
   "cell_type": "code",
   "execution_count": null,
   "metadata": {
    "id": "jnIyVhIVmzhh"
   },
   "outputs": [],
   "source": [
    "assert len(train_reviews) == 40_000, \"Incorrect number of train reviews\"\n",
    "assert len(train_labels) == 40_000, \"Incorrect number of train labels\"\n",
    "\n",
    "assert len(test_reviews) == 12_000, \"Incorrect number of test reviews\"\n",
    "assert len(test_labels) == 12_000, \"Incorrect number of test labels\""
   ]
  },
  {
   "cell_type": "markdown",
   "metadata": {
    "id": "hmc6zfoEqtTe"
   },
   "source": [
    "## Apply Preprocessing Steps to Dataset"
   ]
  },
  {
   "cell_type": "code",
   "execution_count": null,
   "metadata": {
    "id": "TeWx3MT6qqw4"
   },
   "outputs": [],
   "source": [
    "train_reviews_preprocessed = []\n",
    "for review in train_reviews:\n",
    "    train_reviews_preprocessed.append(preprocessing(review))\n",
    "\n",
    "test_reviews_preprocessed = []\n",
    "for review in test_reviews:\n",
    "    test_reviews_preprocessed.append(preprocessing(review))"
   ]
  },
  {
   "cell_type": "markdown",
   "metadata": {
    "id": "88xnO8NOdz9U"
   },
   "source": [
    "## Some more Preprocessing before training the model\n",
    "\n",
    "Machines do not understand text, so what we need to do is to convert them into numbers so that we can train them. We are going to use a tokenizer in the TensorFlow library to achieve this. \n",
    "\n",
    "A tokenizer will take the N most frequently occuring words in a dataset and assign a number to it. If a word is not included in the N most frequent words, its assigned the OOV (or Out-Of-Vocabulary) number which has the value 1."
   ]
  },
  {
   "cell_type": "code",
   "execution_count": null,
   "metadata": {
    "colab": {
     "base_uri": "https://localhost:8080/"
    },
    "executionInfo": {
     "elapsed": 718,
     "status": "ok",
     "timestamp": 1616448260633,
     "user": {
      "displayName": "James Byrne",
      "photoUrl": "",
      "userId": "15652542002506260503"
     },
     "user_tz": 0
    },
    "id": "PmV6CuDVgTmv",
    "outputId": "bfbb1134-e1e6-4396-de8e-9316b77087f6"
   },
   "outputs": [
    {
     "name": "stdout",
     "output_type": "stream",
     "text": [
      "Total number of words:  733846\n",
      "Number of unique words:  36054\n",
      "Average number of words per phrase:  18.34615\n"
     ]
    }
   ],
   "source": [
    "words_set = set()\n",
    "total_word_number = 0\n",
    "\n",
    "for phrase in train_reviews_preprocessed:\n",
    "    for word in phrase:\n",
    "        words_set.add(word)\n",
    "        total_word_number += 1\n",
    "\n",
    "print(\"Total number of words: \", total_word_number)\n",
    "print(\"Number of unique words: \", len(words_set))\n",
    "print(\"Average number of words per phrase: \", total_word_number/len(train_reviews_preprocessed))"
   ]
  },
  {
   "cell_type": "markdown",
   "metadata": {
    "id": "loT1vgFnipYO"
   },
   "source": [
    "First we need to create a Tokenizer and configure it. The num_words parameter determines the value of N, i.e. the number of unique words with a unique number associated to it. The oov_token parameter is the string that is used to replace all other words.\n",
    "\n",
    "After this, we fit the tokenizer on the training reviews to find the most frequent N words and to assign a numeric value to each of them. \n",
    "\n",
    "The number of words we choose is a hyperparameter. This means that we can change it to make the model perform better."
   ]
  },
  {
   "cell_type": "code",
   "execution_count": null,
   "metadata": {
    "id": "ZwLuTzFsd0d9"
   },
   "outputs": [],
   "source": [
    "from keras.preprocessing.text import Tokenizer\n",
    "\n",
    "tokenizer = Tokenizer(num_words=10000, oov_token=\"<oov>\")\n",
    "tokenizer.fit_on_texts(train_reviews_preprocessed)"
   ]
  },
  {
   "cell_type": "markdown",
   "metadata": {
    "id": "ijFC8gJ7fy9d"
   },
   "source": [
    "Then we transfer the sentences we have (sequence of words) into list consisting of sequences of numbers."
   ]
  },
  {
   "cell_type": "code",
   "execution_count": null,
   "metadata": {
    "id": "SqROAMQKfWNM"
   },
   "outputs": [],
   "source": [
    "train_sequences = tokenizer.texts_to_sequences(train_reviews_preprocessed)"
   ]
  },
  {
   "cell_type": "markdown",
   "metadata": {
    "id": "nJCeUutLf0U8"
   },
   "source": [
    "## Adding Padding and Truncating\n",
    "\n",
    "Our model is going to work by having X inputs, each input is a value (number represented by a word). So, we decide on a number of words our sentence should have and we either pad them (by addng zeros) or we cut part of the sentence off (at the beginning or end) so that all sentences have the same length of words.\n",
    "\n",
    "Note: The number of words in a review and whether the padding or truncating happens at the start or the end are all hyperparameters that you *play around* with. There is no trick to choosing them, just try different things and see what happens!"
   ]
  },
  {
   "cell_type": "code",
   "execution_count": null,
   "metadata": {
    "id": "mgT-luEnjamb"
   },
   "outputs": [],
   "source": [
    "from tensorflow.keras.preprocessing.sequence import pad_sequences\n",
    "\n",
    "train_padded = pad_sequences(train_sequences, maxlen=20, padding=\"post\", truncating=\"post\")"
   ]
  },
  {
   "cell_type": "markdown",
   "metadata": {
    "id": "TmTd-4n1msT0"
   },
   "source": [
    "# Creating the Model\n",
    "\n",
    "\n",
    "\n",
    "## Neural Networks\n",
    "\n",
    "First lets look at a neural network. Think of a neural network as a complex function, it has its inputs (X1, X2, …, Xn) and it has its outputs (y1, …, ym). When the neural network is learning, it learns how to predict its output from its inputs. If you look at it as a function, it is learning the equation of the function. \n",
    "\n",
    "A neural network has an input layer (green), one or more hidden layers (blue) and an output layer (Red). In a neural network you can have any number of hidden layers. The number of nodes (circles) in each layer refers to the number of features the layer has, i.e. number of things the layer can learn about the data.\n",
    "\n",
    "The layers here are called Dense layers, because each output from layer N is an input to each node input in layer N+1\n",
    "\n",
    "![1*toFRwg4KYW8uSwCAMUKfgA.png](data:image/png;base64,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)"
   ]
  },
  {
   "cell_type": "markdown",
   "metadata": {
    "id": "C0LNT9HTnq9W"
   },
   "source": [
    "## Embedding Layer\n",
    "\n",
    "A Word Embedding is a vector that represents a word in numeric form. This vector is not just a random number or a random vector. It captures the semantics, synatical similarity and relation to other words in the dataset. This is vital to allow a machine to better understand each review.\n",
    "\n",
    "This is exactly what an Embedding layer does, it learns these word embeddings (vectors) for each word, and we will use one in our model!\n"
   ]
  },
  {
   "cell_type": "markdown",
   "metadata": {
    "id": "6YdjLq2Jp733"
   },
   "source": [
    "## LSTM Layer\n",
    "\n",
    "Simply put, an LSTM layer is used for sequential data (like a sequence of words). A person reads by understand all the previous words in a sentence (or paragraph, or text) to make sense of the next word. LSTMs do the same thing. They are a neural network that reads the sentence one word at a time (from start to finish). \n",
    "\n",
    "For every word the LSTM it has an output. The input for a specific word is the numeric value for that word and the previous words output. The output of the model is the output of the last word.\n",
    "\n",
    "![RNN-unrolled.png](data:image/png;base64,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)\n",
    "\n",
    "This is hugely imporant. For example the sentence \"I am going to the shops\" is very different to \"I am not going to the shops\""
   ]
  },
  {
   "cell_type": "markdown",
   "metadata": {
    "id": "muRDwFPbsblD"
   },
   "source": [
    "## Our Model\n",
    "\n",
    "our model is going to consist of an Embedding layer, followed by an LSTM layer and two dense layers. \n",
    "\n",
    "Keras is a part of TensorFlow and is used to create models\n",
    "\n",
    "Lets make it!"
   ]
  },
  {
   "cell_type": "code",
   "execution_count": null,
   "metadata": {
    "id": "3q6zWeC0sbUs"
   },
   "outputs": [],
   "source": [
    "import tensorflow as tf\n",
    "from tensorflow import keras\n",
    "from tensorflow.keras import layers\n",
    "\n",
    "model = keras.Sequential([\n",
    "    layers.Embedding(10000, 16),\n",
    "    layers.LSTM(128),\n",
    "    layers.Dense(64, activation=\"relu\"),\n",
    "    layers.Dense(1, activation=\"sigmoid\")\n",
    "])"
   ]
  },
  {
   "cell_type": "markdown",
   "metadata": {
    "id": "7kaoDcGvuQgB"
   },
   "source": [
    "### Embedding Layer\n",
    "The number 100000 refers to the number of words in our dataset after tokenization, i.e. the value N. The number 16 refers to the number of dimensions that the word embedding has. With more dimensions, the word embeddings can represent more information about the word.\n",
    "\n",
    "### LSTM\n",
    "The number 128 refers to the number of features that layer has. This number is also a hyperparameter and should be changed to reach the best result\n",
    "\n",
    "### Dense Layer\n",
    "Similarly, the number 64 and 1 refers to the number of features that layer has. The number 64 is a hyperparameter but the number 1 is fixed because it is the last layer and we are trying to predict a boolean value, positive or negative. The activation function is used to increase performance of the model, we wont get to much into it."
   ]
  },
  {
   "cell_type": "markdown",
   "metadata": {
    "id": "xX7hhAyztMTv"
   },
   "source": [
    "### How to we make the model learn?\n",
    "\n",
    "we need to tell the computer how to learn! We do this by having the model predict the output from a given input and seeing how wrong it is. Then it goes back and makes changes based on how wrong it was!\n",
    "\n",
    "Since we only have two hours, let's not focus on the details here and take this as a given."
   ]
  },
  {
   "cell_type": "code",
   "execution_count": null,
   "metadata": {
    "id": "T4fAtbgBsYBn"
   },
   "outputs": [],
   "source": [
    "model.compile(loss='binary_crossentropy', # finds out how wrong a prediction is\n",
    "              optimizer=\"adam\", # Learns from the mistakes\n",
    "              metrics=['accuracy']) # A way to gauge performce"
   ]
  },
  {
   "cell_type": "markdown",
   "metadata": {
    "id": "12Pqphd9vYHE"
   },
   "source": [
    "Lets train the model!\n",
    "\n",
    "We need to pass the reviews and the labels associated with each model\n",
    "\n",
    "Epoch - number of times the model goes over the entire dataset\n",
    "\n",
    "validation_split - this is to split the data to peek at how the model does on data that it has not seen. The validation data is not used to train the model."
   ]
  },
  {
   "cell_type": "code",
   "execution_count": null,
   "metadata": {
    "colab": {
     "base_uri": "https://localhost:8080/"
    },
    "executionInfo": {
     "elapsed": 249928,
     "status": "ok",
     "timestamp": 1616448690704,
     "user": {
      "displayName": "James Byrne",
      "photoUrl": "",
      "userId": "15652542002506260503"
     },
     "user_tz": 0
    },
    "id": "J3yP2PABuRns",
    "outputId": "fa418d4c-8538-4ac5-edcf-c09a5ba84525"
   },
   "outputs": [
    {
     "name": "stdout",
     "output_type": "stream",
     "text": [
      "Epoch 1/10\n",
      "1125/1125 [==============================] - 27s 22ms/step - loss: 0.5580 - accuracy: 0.6954 - val_loss: 0.6045 - val_accuracy: 0.6815\n",
      "Epoch 2/10\n",
      "1125/1125 [==============================] - 25s 22ms/step - loss: 0.3983 - accuracy: 0.8124 - val_loss: 0.6096 - val_accuracy: 0.6547\n",
      "Epoch 3/10\n",
      "1125/1125 [==============================] - 25s 22ms/step - loss: 0.3627 - accuracy: 0.8341 - val_loss: 0.5891 - val_accuracy: 0.6618\n",
      "Epoch 4/10\n",
      "1125/1125 [==============================] - 25s 22ms/step - loss: 0.3429 - accuracy: 0.8423 - val_loss: 0.7930 - val_accuracy: 0.6815\n",
      "Epoch 5/10\n",
      "1125/1125 [==============================] - 25s 22ms/step - loss: 0.3147 - accuracy: 0.8502 - val_loss: 0.4839 - val_accuracy: 0.7977\n",
      "Epoch 6/10\n",
      "1125/1125 [==============================] - 25s 22ms/step - loss: 0.2848 - accuracy: 0.8623 - val_loss: 0.7051 - val_accuracy: 0.7138\n",
      "Epoch 7/10\n",
      "1125/1125 [==============================] - 25s 22ms/step - loss: 0.2548 - accuracy: 0.8736 - val_loss: 0.9280 - val_accuracy: 0.6018\n",
      "Epoch 8/10\n",
      "1125/1125 [==============================] - 25s 22ms/step - loss: 0.2291 - accuracy: 0.8853 - val_loss: 0.8277 - val_accuracy: 0.5932\n",
      "Epoch 9/10\n",
      "1125/1125 [==============================] - 25s 22ms/step - loss: 0.2024 - accuracy: 0.8953 - val_loss: 0.9144 - val_accuracy: 0.7115\n",
      "Epoch 10/10\n",
      "1125/1125 [==============================] - 25s 22ms/step - loss: 0.1825 - accuracy: 0.9052 - val_loss: 1.3360 - val_accuracy: 0.6352\n"
     ]
    }
   ],
   "source": [
    "history = model.fit(train_padded, train_labels, validation_split=0.1, epochs=10)"
   ]
  },
  {
   "cell_type": "markdown",
   "metadata": {
    "id": "_GmQaqAElyLC"
   },
   "source": [
    "# Let's check how the model performed on the test data!\n",
    "\n",
    "Finally, once this is all done, we use the data to see the performance on data that the model has never seen before."
   ]
  },
  {
   "cell_type": "code",
   "execution_count": null,
   "metadata": {
    "colab": {
     "base_uri": "https://localhost:8080/"
    },
    "executionInfo": {
     "elapsed": 3214,
     "status": "ok",
     "timestamp": 1616448912099,
     "user": {
      "displayName": "James Byrne",
      "photoUrl": "",
      "userId": "15652542002506260503"
     },
     "user_tz": 0
    },
    "id": "nf-BrALJluO0",
    "outputId": "16f20d67-d1c0-40c5-d189-6621e4020186"
   },
   "outputs": [
    {
     "name": "stdout",
     "output_type": "stream",
     "text": [
      "375/375 [==============================] - 2s 6ms/step - loss: 0.8618 - accuracy: 0.7489\n",
      "accuracy on test data:  [0.8618257641792297, 0.7489166855812073]\n"
     ]
    }
   ],
   "source": [
    "test_sequences = tokenizer.texts_to_sequences(test_reviews_preprocessed)\n",
    "test_padded = pad_sequences(test_sequences, maxlen=20, padding=\"post\", truncating=\"post\")\n",
    "\n",
    "prediction_accuracy = model.evaluate(test_padded, test_labels)\n",
    "print(\"accuracy on test data: \", prediction_accuracy)"
   ]
  },
  {
   "cell_type": "code",
   "execution_count": null,
   "metadata": {
    "id": "DenSS6G4nNfD"
   },
   "outputs": [],
   "source": []
  }
 ],
 "metadata": {
  "colab": {
   "authorship_tag": "ABX9TyOI7OeOGUsmckaHupavIeip",
   "collapsed_sections": [],
   "name": "nlp-workshop.ipynb",
   "provenance": [],
   "toc_visible": true
  },
  "kernelspec": {
   "display_name": "Python 3",
   "language": "python",
   "name": "python3"
  },
  "language_info": {
   "codemirror_mode": {
    "name": "ipython",
    "version": 3
   },
   "file_extension": ".py",
   "mimetype": "text/x-python",
   "name": "python",
   "nbconvert_exporter": "python",
   "pygments_lexer": "ipython3",
   "version": "3.8.7"
  }
 },
 "nbformat": 4,
 "nbformat_minor": 1
}
